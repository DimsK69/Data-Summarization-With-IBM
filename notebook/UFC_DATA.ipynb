{
  "nbformat": 4,
  "nbformat_minor": 0,
  "metadata": {
    "colab": {
      "provenance": []
    },
    "kernelspec": {
      "name": "python3",
      "display_name": "Python 3"
    },
    "language_info": {
      "name": "python"
    }
  },
  "cells": [
    {
      "cell_type": "code",
      "execution_count": 1,
      "metadata": {
        "colab": {
          "base_uri": "https://localhost:8080/",
          "height": 0
        },
        "id": "w-g6EM0XwFpG",
        "outputId": "cf878b6e-5766-4f80-f6aa-7e822d88c050"
      },
      "outputs": [
        {
          "output_type": "stream",
          "name": "stdout",
          "text": [
            "Collecting replicate\n",
            "  Downloading replicate-1.0.7-py3-none-any.whl.metadata (29 kB)\n",
            "Requirement already satisfied: httpx<1,>=0.21.0 in /usr/local/lib/python3.12/dist-packages (from replicate) (0.28.1)\n",
            "Requirement already satisfied: packaging in /usr/local/lib/python3.12/dist-packages (from replicate) (25.0)\n",
            "Requirement already satisfied: pydantic>1.10.7 in /usr/local/lib/python3.12/dist-packages (from replicate) (2.11.7)\n",
            "Requirement already satisfied: typing_extensions>=4.5.0 in /usr/local/lib/python3.12/dist-packages (from replicate) (4.15.0)\n",
            "Requirement already satisfied: anyio in /usr/local/lib/python3.12/dist-packages (from httpx<1,>=0.21.0->replicate) (4.10.0)\n",
            "Requirement already satisfied: certifi in /usr/local/lib/python3.12/dist-packages (from httpx<1,>=0.21.0->replicate) (2025.8.3)\n",
            "Requirement already satisfied: httpcore==1.* in /usr/local/lib/python3.12/dist-packages (from httpx<1,>=0.21.0->replicate) (1.0.9)\n",
            "Requirement already satisfied: idna in /usr/local/lib/python3.12/dist-packages (from httpx<1,>=0.21.0->replicate) (3.10)\n",
            "Requirement already satisfied: h11>=0.16 in /usr/local/lib/python3.12/dist-packages (from httpcore==1.*->httpx<1,>=0.21.0->replicate) (0.16.0)\n",
            "Requirement already satisfied: annotated-types>=0.6.0 in /usr/local/lib/python3.12/dist-packages (from pydantic>1.10.7->replicate) (0.7.0)\n",
            "Requirement already satisfied: pydantic-core==2.33.2 in /usr/local/lib/python3.12/dist-packages (from pydantic>1.10.7->replicate) (2.33.2)\n",
            "Requirement already satisfied: typing-inspection>=0.4.0 in /usr/local/lib/python3.12/dist-packages (from pydantic>1.10.7->replicate) (0.4.1)\n",
            "Requirement already satisfied: sniffio>=1.1 in /usr/local/lib/python3.12/dist-packages (from anyio->httpx<1,>=0.21.0->replicate) (1.3.1)\n",
            "Downloading replicate-1.0.7-py3-none-any.whl (48 kB)\n",
            "\u001b[2K   \u001b[90m━━━━━━━━━━━━━━━━━━━━━━━━━━━━━━━━━━━━━━━━\u001b[0m \u001b[32m48.6/48.6 kB\u001b[0m \u001b[31m1.9 MB/s\u001b[0m eta \u001b[36m0:00:00\u001b[0m\n",
            "\u001b[?25hInstalling collected packages: replicate\n",
            "Successfully installed replicate-1.0.7\n",
            "Collecting langchain_community\n",
            "  Downloading langchain_community-0.3.29-py3-none-any.whl.metadata (2.9 kB)\n",
            "Requirement already satisfied: langchain-core<2.0.0,>=0.3.75 in /usr/local/lib/python3.12/dist-packages (from langchain_community) (0.3.75)\n",
            "Requirement already satisfied: langchain<2.0.0,>=0.3.27 in /usr/local/lib/python3.12/dist-packages (from langchain_community) (0.3.27)\n",
            "Requirement already satisfied: SQLAlchemy<3,>=1.4 in /usr/local/lib/python3.12/dist-packages (from langchain_community) (2.0.43)\n",
            "Collecting requests<3,>=2.32.5 (from langchain_community)\n",
            "  Downloading requests-2.32.5-py3-none-any.whl.metadata (4.9 kB)\n",
            "Requirement already satisfied: PyYAML>=5.3 in /usr/local/lib/python3.12/dist-packages (from langchain_community) (6.0.2)\n",
            "Requirement already satisfied: aiohttp<4.0.0,>=3.8.3 in /usr/local/lib/python3.12/dist-packages (from langchain_community) (3.12.15)\n",
            "Requirement already satisfied: tenacity!=8.4.0,<10,>=8.1.0 in /usr/local/lib/python3.12/dist-packages (from langchain_community) (8.5.0)\n",
            "Collecting dataclasses-json<0.7,>=0.6.7 (from langchain_community)\n",
            "  Downloading dataclasses_json-0.6.7-py3-none-any.whl.metadata (25 kB)\n",
            "Requirement already satisfied: pydantic-settings<3.0.0,>=2.10.1 in /usr/local/lib/python3.12/dist-packages (from langchain_community) (2.10.1)\n",
            "Requirement already satisfied: langsmith>=0.1.125 in /usr/local/lib/python3.12/dist-packages (from langchain_community) (0.4.27)\n",
            "Requirement already satisfied: httpx-sse<1.0.0,>=0.4.0 in /usr/local/lib/python3.12/dist-packages (from langchain_community) (0.4.1)\n",
            "Requirement already satisfied: numpy>=1.26.2 in /usr/local/lib/python3.12/dist-packages (from langchain_community) (2.0.2)\n",
            "Requirement already satisfied: aiohappyeyeballs>=2.5.0 in /usr/local/lib/python3.12/dist-packages (from aiohttp<4.0.0,>=3.8.3->langchain_community) (2.6.1)\n",
            "Requirement already satisfied: aiosignal>=1.4.0 in /usr/local/lib/python3.12/dist-packages (from aiohttp<4.0.0,>=3.8.3->langchain_community) (1.4.0)\n",
            "Requirement already satisfied: attrs>=17.3.0 in /usr/local/lib/python3.12/dist-packages (from aiohttp<4.0.0,>=3.8.3->langchain_community) (25.3.0)\n",
            "Requirement already satisfied: frozenlist>=1.1.1 in /usr/local/lib/python3.12/dist-packages (from aiohttp<4.0.0,>=3.8.3->langchain_community) (1.7.0)\n",
            "Requirement already satisfied: multidict<7.0,>=4.5 in /usr/local/lib/python3.12/dist-packages (from aiohttp<4.0.0,>=3.8.3->langchain_community) (6.6.4)\n",
            "Requirement already satisfied: propcache>=0.2.0 in /usr/local/lib/python3.12/dist-packages (from aiohttp<4.0.0,>=3.8.3->langchain_community) (0.3.2)\n",
            "Requirement already satisfied: yarl<2.0,>=1.17.0 in /usr/local/lib/python3.12/dist-packages (from aiohttp<4.0.0,>=3.8.3->langchain_community) (1.20.1)\n",
            "Collecting marshmallow<4.0.0,>=3.18.0 (from dataclasses-json<0.7,>=0.6.7->langchain_community)\n",
            "  Downloading marshmallow-3.26.1-py3-none-any.whl.metadata (7.3 kB)\n",
            "Collecting typing-inspect<1,>=0.4.0 (from dataclasses-json<0.7,>=0.6.7->langchain_community)\n",
            "  Downloading typing_inspect-0.9.0-py3-none-any.whl.metadata (1.5 kB)\n",
            "Requirement already satisfied: langchain-text-splitters<1.0.0,>=0.3.9 in /usr/local/lib/python3.12/dist-packages (from langchain<2.0.0,>=0.3.27->langchain_community) (0.3.11)\n",
            "Requirement already satisfied: pydantic<3.0.0,>=2.7.4 in /usr/local/lib/python3.12/dist-packages (from langchain<2.0.0,>=0.3.27->langchain_community) (2.11.7)\n",
            "Requirement already satisfied: jsonpatch<2.0,>=1.33 in /usr/local/lib/python3.12/dist-packages (from langchain-core<2.0.0,>=0.3.75->langchain_community) (1.33)\n",
            "Requirement already satisfied: typing-extensions>=4.7 in /usr/local/lib/python3.12/dist-packages (from langchain-core<2.0.0,>=0.3.75->langchain_community) (4.15.0)\n",
            "Requirement already satisfied: packaging>=23.2 in /usr/local/lib/python3.12/dist-packages (from langchain-core<2.0.0,>=0.3.75->langchain_community) (25.0)\n",
            "Requirement already satisfied: httpx<1,>=0.23.0 in /usr/local/lib/python3.12/dist-packages (from langsmith>=0.1.125->langchain_community) (0.28.1)\n",
            "Requirement already satisfied: orjson>=3.9.14 in /usr/local/lib/python3.12/dist-packages (from langsmith>=0.1.125->langchain_community) (3.11.3)\n",
            "Requirement already satisfied: requests-toolbelt>=1.0.0 in /usr/local/lib/python3.12/dist-packages (from langsmith>=0.1.125->langchain_community) (1.0.0)\n",
            "Requirement already satisfied: zstandard>=0.23.0 in /usr/local/lib/python3.12/dist-packages (from langsmith>=0.1.125->langchain_community) (0.24.0)\n",
            "Requirement already satisfied: python-dotenv>=0.21.0 in /usr/local/lib/python3.12/dist-packages (from pydantic-settings<3.0.0,>=2.10.1->langchain_community) (1.1.1)\n",
            "Requirement already satisfied: typing-inspection>=0.4.0 in /usr/local/lib/python3.12/dist-packages (from pydantic-settings<3.0.0,>=2.10.1->langchain_community) (0.4.1)\n",
            "Requirement already satisfied: charset_normalizer<4,>=2 in /usr/local/lib/python3.12/dist-packages (from requests<3,>=2.32.5->langchain_community) (3.4.3)\n",
            "Requirement already satisfied: idna<4,>=2.5 in /usr/local/lib/python3.12/dist-packages (from requests<3,>=2.32.5->langchain_community) (3.10)\n",
            "Requirement already satisfied: urllib3<3,>=1.21.1 in /usr/local/lib/python3.12/dist-packages (from requests<3,>=2.32.5->langchain_community) (2.5.0)\n",
            "Requirement already satisfied: certifi>=2017.4.17 in /usr/local/lib/python3.12/dist-packages (from requests<3,>=2.32.5->langchain_community) (2025.8.3)\n",
            "Requirement already satisfied: greenlet>=1 in /usr/local/lib/python3.12/dist-packages (from SQLAlchemy<3,>=1.4->langchain_community) (3.2.4)\n",
            "Requirement already satisfied: anyio in /usr/local/lib/python3.12/dist-packages (from httpx<1,>=0.23.0->langsmith>=0.1.125->langchain_community) (4.10.0)\n",
            "Requirement already satisfied: httpcore==1.* in /usr/local/lib/python3.12/dist-packages (from httpx<1,>=0.23.0->langsmith>=0.1.125->langchain_community) (1.0.9)\n",
            "Requirement already satisfied: h11>=0.16 in /usr/local/lib/python3.12/dist-packages (from httpcore==1.*->httpx<1,>=0.23.0->langsmith>=0.1.125->langchain_community) (0.16.0)\n",
            "Requirement already satisfied: jsonpointer>=1.9 in /usr/local/lib/python3.12/dist-packages (from jsonpatch<2.0,>=1.33->langchain-core<2.0.0,>=0.3.75->langchain_community) (3.0.0)\n",
            "Requirement already satisfied: annotated-types>=0.6.0 in /usr/local/lib/python3.12/dist-packages (from pydantic<3.0.0,>=2.7.4->langchain<2.0.0,>=0.3.27->langchain_community) (0.7.0)\n",
            "Requirement already satisfied: pydantic-core==2.33.2 in /usr/local/lib/python3.12/dist-packages (from pydantic<3.0.0,>=2.7.4->langchain<2.0.0,>=0.3.27->langchain_community) (2.33.2)\n",
            "Collecting mypy-extensions>=0.3.0 (from typing-inspect<1,>=0.4.0->dataclasses-json<0.7,>=0.6.7->langchain_community)\n",
            "  Downloading mypy_extensions-1.1.0-py3-none-any.whl.metadata (1.1 kB)\n",
            "Requirement already satisfied: sniffio>=1.1 in /usr/local/lib/python3.12/dist-packages (from anyio->httpx<1,>=0.23.0->langsmith>=0.1.125->langchain_community) (1.3.1)\n",
            "Downloading langchain_community-0.3.29-py3-none-any.whl (2.5 MB)\n",
            "\u001b[2K   \u001b[90m━━━━━━━━━━━━━━━━━━━━━━━━━━━━━━━━━━━━━━━━\u001b[0m \u001b[32m2.5/2.5 MB\u001b[0m \u001b[31m28.9 MB/s\u001b[0m eta \u001b[36m0:00:00\u001b[0m\n",
            "\u001b[?25hDownloading dataclasses_json-0.6.7-py3-none-any.whl (28 kB)\n",
            "Downloading requests-2.32.5-py3-none-any.whl (64 kB)\n",
            "\u001b[2K   \u001b[90m━━━━━━━━━━━━━━━━━━━━━━━━━━━━━━━━━━━━━━━━\u001b[0m \u001b[32m64.7/64.7 kB\u001b[0m \u001b[31m4.6 MB/s\u001b[0m eta \u001b[36m0:00:00\u001b[0m\n",
            "\u001b[?25hDownloading marshmallow-3.26.1-py3-none-any.whl (50 kB)\n",
            "\u001b[2K   \u001b[90m━━━━━━━━━━━━━━━━━━━━━━━━━━━━━━━━━━━━━━━━\u001b[0m \u001b[32m50.9/50.9 kB\u001b[0m \u001b[31m3.4 MB/s\u001b[0m eta \u001b[36m0:00:00\u001b[0m\n",
            "\u001b[?25hDownloading typing_inspect-0.9.0-py3-none-any.whl (8.8 kB)\n",
            "Downloading mypy_extensions-1.1.0-py3-none-any.whl (5.0 kB)\n",
            "Installing collected packages: requests, mypy-extensions, marshmallow, typing-inspect, dataclasses-json, langchain_community\n",
            "  Attempting uninstall: requests\n",
            "    Found existing installation: requests 2.32.4\n",
            "    Uninstalling requests-2.32.4:\n",
            "      Successfully uninstalled requests-2.32.4\n",
            "\u001b[31mERROR: pip's dependency resolver does not currently take into account all the packages that are installed. This behaviour is the source of the following dependency conflicts.\n",
            "google-colab 1.0.0 requires requests==2.32.4, but you have requests 2.32.5 which is incompatible.\u001b[0m\u001b[31m\n",
            "\u001b[0mSuccessfully installed dataclasses-json-0.6.7 langchain_community-0.3.29 marshmallow-3.26.1 mypy-extensions-1.1.0 requests-2.32.5 typing-inspect-0.9.0\n"
          ]
        }
      ],
      "source": [
        "!pip install opendatasets --quiet\n",
        "!pip install replicate\n",
        "!pip install langchain_community\n",
        "\n",
        "\n",
        "import os\n",
        "import pandas as pd\n",
        "import opendatasets as od"
      ]
    },
    {
      "cell_type": "code",
      "source": [
        "# =============================================\n",
        "# 2. Download Dataset dari Kaggle (UFC)\n",
        "# =============================================\n",
        "# Dataset: https://www.kaggle.com/datasets/jerzyszocik/ufc-fight-forecast-complete-gold-modeling-dataset\n",
        "od.download(\"https://www.kaggle.com/datasets/jerzyszocik/ufc-fight-forecast-complete-gold-modeling-dataset\")\n",
        "\n",
        "# Baca file CSV utama\n",
        "ufc_df = pd.read_csv(\"ufc-fight-forecast-complete-gold-modeling-dataset/UFC_full_data_golden.csv\")\n",
        "print(\"Preview data UFC:\")\n",
        "print(ufc_df.head())"
      ],
      "metadata": {
        "colab": {
          "base_uri": "https://localhost:8080/",
          "height": 0
        },
        "id": "9ZszlAbwx36a",
        "outputId": "8aced961-c938-4399-b0fc-bbdbc586c42c"
      },
      "execution_count": 2,
      "outputs": [
        {
          "output_type": "stream",
          "name": "stdout",
          "text": [
            "Please provide your Kaggle credentials to download this dataset. Learn more: http://bit.ly/kaggle-creds\n",
            "Your Kaggle username: dimsk69\n",
            "Your Kaggle Key: ··········\n",
            "Dataset URL: https://www.kaggle.com/datasets/jerzyszocik/ufc-fight-forecast-complete-gold-modeling-dataset\n",
            "Downloading ufc-fight-forecast-complete-gold-modeling-dataset.zip to ./ufc-fight-forecast-complete-gold-modeling-dataset\n"
          ]
        },
        {
          "output_type": "stream",
          "name": "stderr",
          "text": [
            "100%|██████████| 55.2M/55.2M [00:00<00:00, 747MB/s]"
          ]
        },
        {
          "output_type": "stream",
          "name": "stdout",
          "text": [
            "\n"
          ]
        },
        {
          "output_type": "stream",
          "name": "stderr",
          "text": [
            "\n"
          ]
        },
        {
          "output_type": "stream",
          "name": "stdout",
          "text": [
            "Preview data UFC:\n",
            "                             event_name          referee              winner  \\\n",
            "0  UFC Fight Night: Imavov vs. Borralho  Patricio Carlos  Rinat Fakhretdinov   \n",
            "1  UFC Fight Night: Imavov vs. Borralho        Herb Dean      Kaue Fernandes   \n",
            "2  UFC Fight Night: Imavov vs. Borralho   Lukasz Bosacki          Sam Hughes   \n",
            "3  UFC Fight Night: Imavov vs. Borralho  Patricio Carlos            Oumar Sy   \n",
            "4  UFC Fight Night: Imavov vs. Borralho   Lukasz Bosacki       William Gomis   \n",
            "\n",
            "   num_rounds  title_fight         weight_class gender                result  \\\n",
            "0           3        False         Welterweight      M                KO/TKO   \n",
            "1           3        False          Lightweight      M                KO/TKO   \n",
            "2           3        False  Women's Strawweight      F            Submission   \n",
            "3           3        False    Light Heavyweight      M                KO/TKO   \n",
            "4           3        False        Featherweight      M  Decision - Unanimous   \n",
            "\n",
            "                                      result_details  finish_round  ...  \\\n",
            "0                          Punches to Head In Clinch             1  ...   \n",
            "1                            Kick to Leg At Distance             1  ...   \n",
            "2                                   Rear Naked Choke             2  ...   \n",
            "3                  Punches to Head From Back Control             1  ...   \n",
            "4  Ben Cartlidge 27 - 30. Derek Cleary 28 - 29. C...             3  ...   \n",
            "\n",
            "  diff_ground_share_r5_6 diff_ground_share_r5_7 diff_ground_share_r5_8  \\\n",
            "0                    0.0                    0.0                    0.0   \n",
            "1                    0.0                    0.0                    0.0   \n",
            "2                    0.0                    0.0                    0.0   \n",
            "3                    0.0                    0.0                    0.0   \n",
            "4                    0.0                    0.0                    0.0   \n",
            "\n",
            "  diff_ground_share_r5_9 diff_ground_share_r5_10 diff_ground_share_r5_11  \\\n",
            "0                    0.0                     0.0                     0.0   \n",
            "1                    0.0                     0.0                     0.0   \n",
            "2                    0.0                     0.0                     0.0   \n",
            "3                    0.0                     0.0                     0.0   \n",
            "4                    0.0                     0.0                     0.0   \n",
            "\n",
            "  diff_ground_share_r5_12 diff_ground_share_r5_13 diff_ground_share_r5_14  \\\n",
            "0                     0.0                     0.0                     0.0   \n",
            "1                     0.0                     0.0                     0.0   \n",
            "2                     0.0                     0.0                     0.0   \n",
            "3                     0.0                     0.0                     0.0   \n",
            "4                     0.0                     0.0                     0.0   \n",
            "\n",
            "  diff_ground_share_r5_15  \n",
            "0                     0.0  \n",
            "1                     0.0  \n",
            "2                     0.0  \n",
            "3                     0.0  \n",
            "4                     0.0  \n",
            "\n",
            "[5 rows x 5437 columns]\n"
          ]
        }
      ]
    },
    {
      "cell_type": "code",
      "source": [
        "# =============================================\n",
        "# 3. Preprocessing Dataset\n",
        "# =============================================\n",
        "# Ambil kolom yang relevan sesuai struktur dataset\n",
        "cols = [\n",
        "\"event_name\", # Nama event UFC\n",
        "\"winner\", # Nama pemenang\n",
        "\"weight_class\", # Kelas berat\n",
        "\"gender\", # Gender fighter\n",
        "\"result\", # Tipe hasil (KO/TKO, Submission, Decision)\n",
        "\"finish_round\" # Round berakhir\n",
        "]\n",
        "\n",
        "\n",
        "ufc_df = ufc_df[cols].dropna().head(20)\n",
        "\n",
        "\n",
        "print(\"\\nSample data yang akan dianalisis:\")\n",
        "print(ufc_df)"
      ],
      "metadata": {
        "colab": {
          "base_uri": "https://localhost:8080/",
          "height": 0
        },
        "id": "ACzNrV081Ulk",
        "outputId": "8d102e0e-b2c5-4aef-b39c-44c8680041a8"
      },
      "execution_count": 3,
      "outputs": [
        {
          "output_type": "stream",
          "name": "stdout",
          "text": [
            "\n",
            "Sample data yang akan dianalisis:\n",
            "                              event_name              winner  \\\n",
            "0   UFC Fight Night: Imavov vs. Borralho  Rinat Fakhretdinov   \n",
            "1   UFC Fight Night: Imavov vs. Borralho      Kaue Fernandes   \n",
            "2   UFC Fight Night: Imavov vs. Borralho          Sam Hughes   \n",
            "3   UFC Fight Night: Imavov vs. Borralho            Oumar Sy   \n",
            "4   UFC Fight Night: Imavov vs. Borralho       William Gomis   \n",
            "5   UFC Fight Night: Imavov vs. Borralho       Sam Patterson   \n",
            "6   UFC Fight Night: Imavov vs. Borralho  Modestas Bukauskas   \n",
            "7   UFC Fight Night: Imavov vs. Borralho  Nassourdine Imavov   \n",
            "8   UFC Fight Night: Imavov vs. Borralho      Robert Bryczek   \n",
            "9   UFC Fight Night: Imavov vs. Borralho  Benoit Saint Denis   \n",
            "10  UFC Fight Night: Imavov vs. Borralho         Ante Delija   \n",
            "11  UFC Fight Night: Imavov vs. Borralho           Axel Sola   \n",
            "12  UFC Fight Night: Imavov vs. Borralho         Mason Jones   \n",
            "13     UFC Fight Night: Walker vs. Zhang          Sumudaerji   \n",
            "14     UFC Fight Night: Walker vs. Zhang     Charles Johnson   \n",
            "15     UFC Fight Night: Walker vs. Zhang       Johnny Walker   \n",
            "16     UFC Fight Night: Walker vs. Zhang             Rongzhu   \n",
            "17     UFC Fight Night: Walker vs. Zhang         Gauge Young   \n",
            "18     UFC Fight Night: Walker vs. Zhang   Taiyilake Nueraji   \n",
            "19     UFC Fight Night: Walker vs. Zhang         SuYoung You   \n",
            "\n",
            "           weight_class gender                result  finish_round  \n",
            "0          Welterweight      M                KO/TKO             1  \n",
            "1           Lightweight      M                KO/TKO             1  \n",
            "2   Women's Strawweight      F            Submission             2  \n",
            "3     Light Heavyweight      M                KO/TKO             1  \n",
            "4         Featherweight      M  Decision - Unanimous             3  \n",
            "5          Welterweight      M                KO/TKO             1  \n",
            "6     Light Heavyweight      M                KO/TKO             1  \n",
            "7          Middleweight      M  Decision - Unanimous             5  \n",
            "8          Middleweight      M                KO/TKO             3  \n",
            "9           Lightweight      M            Submission             2  \n",
            "10          Heavyweight      M                KO/TKO             1  \n",
            "11         Welterweight      M                KO/TKO             3  \n",
            "12          Lightweight      M                KO/TKO             2  \n",
            "13            Flyweight      M  Decision - Unanimous             3  \n",
            "14            Flyweight      M                KO/TKO             2  \n",
            "15    Light Heavyweight      M                KO/TKO             2  \n",
            "16          Lightweight      M  Decision - Unanimous             3  \n",
            "17          Lightweight      M  Decision - Unanimous             3  \n",
            "18         Welterweight      M                KO/TKO             1  \n",
            "19         Bantamweight      M  Decision - Unanimous             3  \n"
          ]
        }
      ]
    },
    {
      "cell_type": "code",
      "source": [
        "# =============================================\n",
        "# 4. Setup Replicate API untuk IBM Granite\n",
        "# =============================================\n",
        "from google.colab import userdata\n",
        "api_token = userdata.get(\"api_token\")\n",
        "os.environ[\"REPLICATE_API_TOKEN\"] = api_token\n",
        "\n",
        "\n",
        "from langchain_community.llms import Replicate\n",
        "llm = Replicate(model=\"ibm-granite/granite-3.3-8b-instruct\")"
      ],
      "metadata": {
        "id": "uVQHoson3iWV"
      },
      "execution_count": 4,
      "outputs": []
    },
    {
      "cell_type": "code",
      "source": [
        "# =============================================\n",
        "# 5. Classification dengan Granite\n",
        "# =============================================\n",
        "results = []\n",
        "\n",
        "for idx, row in ufc_df.iterrows():\n",
        "    prompt = (\n",
        "        f\"\"\"\n",
        "Klasifikasikan hasil pertarungan UFC berikut ke dalam kategori:\n",
        "- KO/TKO\n",
        "- Submission\n",
        "- Decision\n",
        "Balas hanya dengan label di atas.\n",
        "\n",
        "Event: {row['event_name']}\n",
        "Pemenang: {row['winner']} (Gender: {row['gender']}, Weight Class: {row['weight_class']})\n",
        "Result: {row['result']} (Round {row['finish_round']})\n",
        "\"\"\"\n",
        "    )\n",
        "    label = llm.invoke(prompt)\n",
        "    results.append({\n",
        "        \"event\": row['event_name'],\n",
        "        \"winner\": row['winner'],\n",
        "        \"weight_class\": row['weight_class'],\n",
        "        \"gender\": row['gender'],\n",
        "        \"result\": row['result'],\n",
        "        \"finish_round\": row['finish_round'],\n",
        "        \"classification\": label\n",
        "    })\n",
        "\n",
        "classified_df = pd.DataFrame(results)\n",
        "print(\"\\nHasil klasifikasi Granite:\")\n",
        "print(classified_df.head())"
      ],
      "metadata": {
        "colab": {
          "base_uri": "https://localhost:8080/",
          "height": 0
        },
        "id": "3hzRRf5v3qx_",
        "outputId": "111541cb-5595-4832-96b4-12da7bd877f7"
      },
      "execution_count": 5,
      "outputs": [
        {
          "output_type": "stream",
          "name": "stdout",
          "text": [
            "\n",
            "Hasil klasifikasi Granite:\n",
            "                                  event              winner  \\\n",
            "0  UFC Fight Night: Imavov vs. Borralho  Rinat Fakhretdinov   \n",
            "1  UFC Fight Night: Imavov vs. Borralho      Kaue Fernandes   \n",
            "2  UFC Fight Night: Imavov vs. Borralho          Sam Hughes   \n",
            "3  UFC Fight Night: Imavov vs. Borralho            Oumar Sy   \n",
            "4  UFC Fight Night: Imavov vs. Borralho       William Gomis   \n",
            "\n",
            "          weight_class gender                result  finish_round  \\\n",
            "0         Welterweight      M                KO/TKO             1   \n",
            "1          Lightweight      M                KO/TKO             1   \n",
            "2  Women's Strawweight      F            Submission             2   \n",
            "3    Light Heavyweight      M                KO/TKO             1   \n",
            "4        Featherweight      M  Decision - Unanimous             3   \n",
            "\n",
            "  classification  \n",
            "0         KO/TKO  \n",
            "1         KO/TKO  \n",
            "2     Submission  \n",
            "3         KO/TKO  \n",
            "4       Decision  \n"
          ]
        }
      ]
    },
    {
      "cell_type": "code",
      "source": [
        "# =============================================\n",
        "# 6. Summarization dengan Granite\n",
        "# =============================================\n",
        "summary_prompt = f\"\"\"\n",
        "Buat ringkasan analisis dari data klasifikasi UFC berikut:\n",
        "{classified_df}\n",
        "\n",
        "\n",
        "Tuliskan insight utama dalam bahasa Indonesia, buat dalam bentuk paragraf.\"\"\"\n",
        "\n",
        "\n",
        "summary = llm.invoke(summary_prompt)\n",
        "print(\"\\nRingkasan Granite:\")\n",
        "print(summary)"
      ],
      "metadata": {
        "colab": {
          "base_uri": "https://localhost:8080/",
          "height": 0
        },
        "id": "3Z3Mgh8L4shb",
        "outputId": "8e17c884-94f9-48d2-e9ec-62de6eebf5ce"
      },
      "execution_count": 8,
      "outputs": [
        {
          "output_type": "stream",
          "name": "stdout",
          "text": [
            "\n",
            "Ringkasan Granite:\n",
            "Berdasarkan data klasifikasi UFC yang diberikan, dapat disimpulkan beberapa insight utama tentang perlombaan UFC ini. Pertama, perlombaan tersebut melibatkan pertempuran berbeda-beda di antara atlet pria (M) dan wanita (F) dalam berbagai kelas berat yang berbeda, seperti Welterweight, Lightweight, Women's Strawweight, Light Heavyweight, Featherweight, Heavyweight, dan Bantamweight.\n",
            "\n",
            "Kedua, tingkat kemenangan yang paling sering diperoleh oleh atlet-atlet tersebut melalui KO/TKO (Knockout/Technical Knockout), yang terjadi sebanyak 12 kali. Ini menunjukkan bahwa perlombaan ini sering kali diakhiri dengan pemenang yang mencapai kemenangan dengan mengusir musuhnya dari arena.\n",
            "\n",
            "Ketiga, beberapa perlombaan juga berakhir dengan keputusan pengadil (Decision), sebanyak 10 kali, yang mengindikasikan bahwa sifat keterampilan dan strategi yang baik, serta kemampuan untuk meneruskan perlombaan sampai ke akhir juga dianggap penting dalam UFC.\n",
            "\n",
            "Selanjutnya, dapat dilihat bahwa kelas berat atlet dapat mempengaruhi cara kemenangan mereka. Misalnya, atlet Light Heavyweight sering kali menang dengan KO/TKO, sementara atlet Women's Strawweight sering kalah pada perlombaan mereka melalui submission.\n",
            "\n",
            "Terakhir, ada perlombaan dengan hasil \"Submission\", yang melibatkan teknik penguasaan lawan untuk mengakibatkan penyerahan. Ini menunjukkan bahwa sifat keterampilan dalam permainan laga bawah (grappling) juga penting dalam UFC.\n",
            "\n",
            "Dalam keseluruhan, data menunjuk\n"
          ]
        }
      ]
    }
  ]
}